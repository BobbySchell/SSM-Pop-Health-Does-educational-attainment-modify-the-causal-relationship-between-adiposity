{
 "cells": [
  {
   "cell_type": "markdown",
   "metadata": {},
   "source": [
    "# Converting Chromosome 1 Variants\n",
    "\n",
    "This code was run in the UK Biobank Research Analysis Platform to convert variants in vcf format to csvs. We show code for only chromosome 1 but the same process was followed for the subsequent chromosomes."
   ]
  },
  {
   "cell_type": "code",
   "execution_count": null,
   "metadata": {},
   "outputs": [],
   "source": [
    "dx download file.vcf\n"
   ]
  },
  {
   "cell_type": "code",
   "execution_count": null,
   "metadata": {},
   "outputs": [],
   "source": [
    "# Installing relevant packages\n",
    "install.packages(\"vcfR\")\n",
    "library(vcfR)"
   ]
  },
  {
   "cell_type": "code",
   "execution_count": null,
   "metadata": {},
   "outputs": [],
   "source": [
    "# Reading in the vcf file\n",
    "vcf_file <- \"raw_file_text.vcf\"\n",
    "vcf <- read.vcfR( vcf_file, verbose = FALSE )\n"
   ]
  },
  {
   "cell_type": "code",
   "execution_count": null,
   "metadata": {},
   "outputs": [],
   "source": [
    "dim(vcf)\n",
    "# variants = 10\n",
    "# fix_cols = 8 (?)\n",
    "# gt_cols = 487,410 (individuals)\n"
   ]
  },
  {
   "cell_type": "code",
   "execution_count": null,
   "metadata": {},
   "outputs": [],
   "source": [
    "\n",
    "extractedgtallele <- extract.gt(vcf,\n",
    "                                element = \"GT\",\n",
    "                                mask = FALSE,\n",
    "                                as.numeric = FALSE,\n",
    "                                return.alleles = TRUE,\n",
    "                                IDtoRowNames = TRUE,\n",
    "                                extract = TRUE,\n",
    "                                convertNA = TRUE)\n",
    "\n",
    "dim(extractedgt)\n",
    "# Probably the way to go to get my alleles all sorted out properly\n",
    "\n",
    "\n",
    "head(extractedgtallele)\n",
    "\n",
    "\n",
    "colnames(extractedgtallele)\n",
    "# To see IDs and determine whether they line up with EIDs\n",
    "\n",
    "\n",
    "head(extractedgtallele)\n",
    "write.csv(extractedgtallele, \"Chrom1Vars.csv\")\n"
   ]
  },
  {
   "cell_type": "code",
   "execution_count": null,
   "metadata": {},
   "outputs": [],
   "source": [
    "dx upload Chrom1Vars.csv"
   ]
  }
 ],
 "metadata": {
  "kernelspec": {
   "display_name": "Python 3",
   "language": "python",
   "name": "python3"
  },
  "language_info": {
   "codemirror_mode": {
    "name": "ipython",
    "version": 3
   },
   "file_extension": ".py",
   "mimetype": "text/x-python",
   "name": "python",
   "nbconvert_exporter": "python",
   "pygments_lexer": "ipython3",
   "version": "3.8.5"
  }
 },
 "nbformat": 4,
 "nbformat_minor": 4
}
