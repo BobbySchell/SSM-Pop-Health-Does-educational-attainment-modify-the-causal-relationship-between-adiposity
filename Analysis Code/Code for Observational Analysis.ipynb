{
 "cells": [
  {
   "cell_type": "markdown",
   "metadata": {},
   "source": [
    "# Observational Analysis\n",
    "\n",
    "This code was run in the UK Biobank Research Analysis Platform to create the observational (not MR) models."
   ]
  },
  {
   "cell_type": "code",
   "execution_count": null,
   "metadata": {},
   "outputs": [],
   "source": [
    "dx download THEFINALFULLDATASET.csv\n"
   ]
  },
  {
   "cell_type": "code",
   "execution_count": null,
   "metadata": {},
   "outputs": [],
   "source": [
    "# Install necessary packages\n",
    "install.packages(\"lubridate\")\n",
    "library(lubridate)\n",
    "\n",
    "install.packages('data.table')\n",
    "library(data.table)\n",
    "\n",
    "install.packages('timereg')\n",
    "library(timereg)\n",
    "\n",
    "install.packages(\"survival\")\n",
    "library(\"survival\")\n"
   ]
  },
  {
   "cell_type": "code",
   "execution_count": null,
   "metadata": {},
   "outputs": [],
   "source": [
    "# Getting censoring data aligned\n",
    "dataset$CensorDate <- fifelse(dataset$REGION == \"Scotland\", as.Date(\"2021-07-31\"),\n",
    "                              fifelse(dataset$REGION == \"Wales\", as.Date(\"2018-02-28\"), as.Date(\"2021-09-30\")))\n",
    "\n",
    "\n",
    "summary(as.Date(dataset$CensorDate))\n",
    "\n",
    "# Converting BMI Date to an actual date instead of character\n",
    "dataset$BMIDate <- as.Date(dataset$BMIDate)"
   ]
  },
  {
   "cell_type": "code",
   "execution_count": null,
   "metadata": {},
   "outputs": [],
   "source": [
    "# Finishing Time Variable based on WHEN things happened\n",
    "# If they didn't die or experience CVD event, then censor date - first date BMI measured is used\n",
    "dataset$Time <- ifelse(is.na(dataset$CVDDate) == TRUE & is.na(dataset$Date.of.Death.Inst.0) == TRUE & is.na(dataset$Date.of.Death.Inst.1) == TRUE, dataset$CensorDate - dataset$BMIDate, dataset$Time) \n",
    "\n",
    "# Converting time to years\n",
    "dataset$TimeYear <- dataset$Time/365.24\n"
   ]
  },
  {
   "cell_type": "code",
   "execution_count": null,
   "metadata": {},
   "outputs": [],
   "source": [
    "# Fitting observational aalen model\n",
    "FULLMODEL <- aalen(Surv(TimeYear, StatBinary) ~ const(FirstBMI), robust = 0, data = dataset)\n",
    "\n",
    "\n",
    "summary(FULLMODEL)"
   ]
  },
  {
   "cell_type": "code",
   "execution_count": null,
   "metadata": {},
   "outputs": [],
   "source": [
    "# Creating the SES subcategories\n",
    "UKBDFNOUNI <- dataset[-grep(\"College or University degree\", dataset$EA), ]\n",
    "UKBDFUNI <- dataset[grep(\"College or University degree\", dataset$EA), ]\n",
    "UKBDFLowSES <- dataset[grep(\"None of the above\", dataset$EA), ]\n",
    "UKBDFHighSES <- dataset[-grep(\"None of the above\", dataset$EA), ]\n"
   ]
  },
  {
   "cell_type": "code",
   "execution_count": null,
   "metadata": {},
   "outputs": [],
   "source": [
    "NOUNI <- aalen(Surv(TimeYear, StatBinary) ~ const(FirstBMI) + const(AgeBaseline) + const(EverSmoke) + const(AssayType) + const(Biological.Sex) +\n",
    "                                              const(PC1) + const(PC2) + const(PC3) + const(PC4) + const(PC5) + const(PC6) + const(PC7) + const(PC8) + const(PC9) + const(PC10), robust = 0, data = UKBDFNOUNI))\n",
    "\n",
    "UNI <- aalen(Surv(TimeYear, StatBinary) ~ const(FirstBMI) + const(AgeBaseline) + const(EverSmoke) + const(AssayType) + const(Biological.Sex) +\n",
    "                                              const(PC1) + const(PC2) + const(PC3) + const(PC4) + const(PC5) + const(PC6) + const(PC7) + const(PC8) + const(PC9) + const(PC10), robust = 0, data = UKBDFUNI))\n",
    "\n",
    "LowSES <- aalen(Surv(TimeYear, StatBinary) ~ const(FirstBMI) + const(AgeBaseline) + const(EverSmoke) + const(AssayType) + const(Biological.Sex) +\n",
    "                                              const(PC1) + const(PC2) + const(PC3) + const(PC4) + const(PC5) + const(PC6) + const(PC7) + const(PC8) + const(PC9) + const(PC10), robust = 0, data = UKBDFLowSES))\n",
    "\n",
    "HighSES <- aalen(Surv(TimeYear, StatBinary) ~ const(FirstBMI) + const(AgeBaseline) + const(EverSmoke) + const(AssayType) + const(Biological.Sex) +\n",
    "                                              const(PC1) + const(PC2) + const(PC3) + const(PC4) + const(PC5) + const(PC6) + const(PC7) + const(PC8) + const(PC9) + const(PC10), robust = 0, data = UKBDFHighSES))\n"
   ]
  }
 ],
 "metadata": {
  "kernelspec": {
   "display_name": "Python 3",
   "language": "python",
   "name": "python3"
  },
  "language_info": {
   "codemirror_mode": {
    "name": "ipython",
    "version": 3
   },
   "file_extension": ".py",
   "mimetype": "text/x-python",
   "name": "python",
   "nbconvert_exporter": "python",
   "pygments_lexer": "ipython3",
   "version": "3.8.5"
  }
 },
 "nbformat": 4,
 "nbformat_minor": 4
}
