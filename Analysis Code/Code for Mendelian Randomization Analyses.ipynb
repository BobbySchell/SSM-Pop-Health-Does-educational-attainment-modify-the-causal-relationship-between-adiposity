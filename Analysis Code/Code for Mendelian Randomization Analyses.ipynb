{
 "cells": [
  {
   "cell_type": "markdown",
   "metadata": {},
   "source": [
    "# Mendelian Randomization Analyses\n",
    "\n",
    "This code was run in the UK Biobank Research Analysis Platform to create the MR models (IVW and median estimator). This analysis was repeated for each educational attainment group separately. For simplicity, we only show the model fitting on the full dataset here, as the actual process involved repeating this four times with the groups created in the Observational Analyses code."
   ]
  },
  {
   "cell_type": "code",
   "execution_count": null,
   "metadata": {},
   "outputs": [],
   "source": [
    "dx download UPDATEDFULLPROCDATASET.csv\n"
   ]
  },
  {
   "cell_type": "code",
   "execution_count": null,
   "metadata": {},
   "outputs": [],
   "source": [
    "install.packages(\"lubridate\")\n",
    "library(lubridate)\n",
    "\n",
    "install.packages('data.table')\n",
    "library(data.table)\n",
    "\n",
    "\n",
    "install.packages('timereg')\n",
    "library(timereg)\n",
    "\n",
    "install.packages('MendelianRandomization')\n",
    "library(MendelianRandomization)\n"
   ]
  },
  {
   "cell_type": "code",
   "execution_count": null,
   "metadata": {},
   "outputs": [],
   "source": [
    "\n",
    "\n",
    "dataset <- read.csv(\"UPDATEDFULLPROCDATASET.csv\")\n",
    "\n",
    "colnames(dataset)\n",
    "ncol(dataset)\n",
    "\n",
    "\n",
    "dataset[ , c(264:360)]\n",
    "# Isolates the 97 variants\n",
    "\n",
    "dataset$CensorDate <- fifelse(dataset$REGION == \"Scotland\", as.Date(\"2021-07-31\"),\n",
    "                             fifelse(dataset$REGION == \"Wales\", as.Date(\"2018-02-28\"), as.Date(\"2021-09-30\")))\n",
    "\n",
    "                             \n",
    "summary(as.Date(dataset$CensorDate))\n"
   ]
  },
  {
   "cell_type": "code",
   "execution_count": null,
   "metadata": {},
   "outputs": [],
   "source": [
    "\n",
    "# Creating for loop to create clones of variants from 1 to 96 as V1 to V96 - v fast so no issue\n",
    "for(i in 1:97) {\n",
    "  nam <- paste(\"V\", i, sep = \"\")\n",
    "  \n",
    "  dataset$nam <- dataset[ , (i + 263)]\n",
    "  \n",
    "  # Renaming column\n",
    "  names(dataset)[names(dataset) == \"nam\"] <- nam\n",
    "  \n",
    "  \n",
    "}\n"
   ]
  },
  {
   "cell_type": "code",
   "execution_count": null,
   "metadata": {},
   "outputs": [],
   "source": [
    "\n",
    "# Creating V1 to V97 variants for now... Easier to reference\n",
    "summary(dataset$V1)\n",
    "summary(dataset$V97)\n",
    "# Look to be 0 to 2\n"
   ]
  },
  {
   "cell_type": "code",
   "execution_count": null,
   "metadata": {},
   "outputs": [],
   "source": [
    "# Creating empty vectors to store coefficients and standard errors\n",
    "Bx <- matrix(NA, nrow = 97, ncol = 1)\n",
    "Bxse <- matrix(NA, nrow = 97, ncol = 1)\n",
    "\n"
   ]
  },
  {
   "cell_type": "code",
   "execution_count": null,
   "metadata": {},
   "outputs": [],
   "source": [
    "# Number of genetic variants\n",
    "n <- 97\n",
    "\n",
    "\n",
    "# run n regressions\n",
    "Stage1Regs <- lapply(1:n, function(x) glm(FirstBMI ~ dataset[,x+361] + AgeBaseline + EverSmoke + AssayType + Biological.Sex +\n",
    "                                            PC1 + PC2 + PC3 + PC4 + PC5 + PC6 + PC7 + PC8 + PC9 + PC10, data = dataset))\n",
    "\n",
    "\n",
    "names(summary(Stage1Regs[[1]]))\n",
    "# Figure out where coefficients and SEs lie now\n",
    "\n",
    "summary(Stage1Regs[[1]])$coefficients[2,1]\n",
    "summary(Stage1Regs[[1]])$coefficients[2,2]\n",
    "summary(Stage1Regs[[1]])$coefficients\n",
    "\n"
   ]
  },
  {
   "cell_type": "code",
   "execution_count": null,
   "metadata": {},
   "outputs": [],
   "source": [
    "# Extract coefficients and SEs\n",
    "summaries <- lapply(Stage1Regs, summary)\n",
    "Bx <- lapply(summaries, function(x) x$coefficients[2,1])\n",
    "Bxse <- lapply(summaries, function(x) x$coefficients[2,2])\n",
    "\n",
    "head(Bx)\n",
    "head(Bxse)\n",
    "# Confirmed this works\n",
    "\n",
    "summary(as.numeric(Bx))\n",
    "summary(as.numeric(Bxse))\n",
    "# List makes summary behave weird, so force to numeric vector to view range of coeffs/ses\n",
    "\n",
    "is.list(Bx)\n",
    "is.list(Bxse)\n",
    "\n",
    "# Unlist and turn into numeric vectors\n",
    "Bx <- as.numeric(unlist(Bx))\n",
    "Bxse <- as.numeric(unlist(Bxse))\n",
    "\n",
    "\n",
    "typeof(Bx)\n",
    "typeof(Bxse)\n"
   ]
  },
  {
   "cell_type": "code",
   "execution_count": null,
   "metadata": {},
   "outputs": [],
   "source": [
    "\n",
    "# Creating empty vectors\n",
    "By <- matrix(NA, nrow = 97, ncol = 1)\n",
    "Byse <- matrix(NA, nrow = 97, ncol = 1)\n"
   ]
  },
  {
   "cell_type": "code",
   "execution_count": null,
   "metadata": {},
   "outputs": [],
   "source": [
    "\n",
    "n <- 97\n",
    "\n",
    "# run n regressions\n",
    "Stage2Regs <- lapply(1:n, function(x) aalen(Surv(TimeYear, StatBinary) ~ const(dataset[,x+361]) + const(AgeBaseline) + const(EverSmoke) + const(AssayType) + const(Biological.Sex) +\n",
    "                                              const(PC1) + const(PC2) + const(PC3) + const(PC4) + const(PC5) + const(PC6) + const(PC7) + const(PC8) + const(PC9) + const(PC10), robust = 0, data = dataset))\n",
    "\n",
    "\n",
    "\n",
    "head(Stage2Regs)\n",
    "\n",
    "\n"
   ]
  },
  {
   "cell_type": "code",
   "execution_count": null,
   "metadata": {},
   "outputs": [],
   "source": [
    "# Extract coefficients and SEs\n",
    "coefs <- lapply(Stage2Regs, coef)\n",
    "By <- lapply(coefs, function(x) x[1,1])\n",
    "Byse <- lapply(coefs, function(x) x[1,2])\n",
    "\n",
    "head(By)\n",
    "head(Byse)\n",
    "\n",
    "is.list(Byse)\n",
    "\n",
    "# Unlist and turn into numeric vectors\n",
    "By <- as.numeric(unlist(By))\n",
    "Byse <- as.numeric(unlist(Byse))\n",
    "\n",
    "typeof(Byse)\n"
   ]
  },
  {
   "cell_type": "code",
   "execution_count": null,
   "metadata": {},
   "outputs": [],
   "source": [
    "# Creating mr_input object\n",
    "mrinput <- mr_input(\n",
    "  bx = Betas$Bx,\n",
    "  bxse = Betas$Bxse,\n",
    "  by = Betas$By,\n",
    "  byse = Betas$Byse,\n",
    "  exposure = \"Yin\",\n",
    "  outcome = \"Yang\"\n",
    ")"
   ]
  },
  {
   "cell_type": "code",
   "execution_count": null,
   "metadata": {},
   "outputs": [],
   "source": [
    "# FIRST running unweighted/unpenalized IVW Model\n",
    "ivw1 <- mr_ivw(mrinput,\n",
    "               model = \"default\",\n",
    "               penalized = FALSE,\n",
    "               robust = FALSE,\n",
    "               weights = \"simple\",\n",
    "               alpha = 0.05)\n",
    "\n",
    "\n",
    "\n",
    "\n",
    "ivw1\n",
    "\n",
    "\n",
    "\n",
    "\n",
    "\n",
    "coeff <- ivw1@Estimate\n",
    "lower <- ivw1@CILower\n",
    "higher <- ivw1@CIUpper\n"
   ]
  },
  {
   "cell_type": "code",
   "execution_count": null,
   "metadata": {},
   "outputs": [],
   "source": [
    "\n",
    "# ---------\n",
    "# Median Estimator Results\n",
    "# ---------\n",
    "\n",
    "# FIRST weighted median\n",
    "med1 <- mr_median(mrinput,\n",
    "  weighting = \"weighted\",\n",
    "  distribution = \"normal\",\n",
    "  alpha = 0.05,\n",
    "  iterations = 10000) # Set iterations for calculating SEs via bootstrap\n",
    "\n",
    "\n",
    "\n",
    "\n",
    "coeffmed <- med1@Estimate\n",
    "lowermed <- med1@CILower\n",
    "highermed <- med1@CIUpper\n",
    "\n"
   ]
  }
 ],
 "metadata": {
  "kernelspec": {
   "display_name": "Python 3",
   "language": "python",
   "name": "python3"
  },
  "language_info": {
   "codemirror_mode": {
    "name": "ipython",
    "version": 3
   },
   "file_extension": ".py",
   "mimetype": "text/x-python",
   "name": "python",
   "nbconvert_exporter": "python",
   "pygments_lexer": "ipython3",
   "version": "3.8.5"
  }
 },
 "nbformat": 4,
 "nbformat_minor": 4
}
