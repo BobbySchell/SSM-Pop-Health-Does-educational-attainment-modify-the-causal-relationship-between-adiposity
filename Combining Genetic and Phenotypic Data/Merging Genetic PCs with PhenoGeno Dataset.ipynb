{
 "cells": [
  {
   "cell_type": "markdown",
   "metadata": {},
   "source": [
    "# Combining Phenotypic and Genotypic Data\n",
    "\n",
    "This code was run in the UK Biobank Research Analysis Platform to combine phenotypic and genotypic data. The results are only shown for chromosome 1 for simplicity."
   ]
  },
  {
   "cell_type": "code",
   "execution_count": null,
   "metadata": {},
   "outputs": [],
   "source": [
    "dx download ASSAYnPCA.csv\n",
    "dx download UPDATEDPhenoGenoALLCHROM.csv\n"
   ]
  },
  {
   "cell_type": "code",
   "execution_count": null,
   "metadata": {},
   "outputs": [],
   "source": [
    "install.packages('stringr')\n",
    "library(stringr)"
   ]
  },
  {
   "cell_type": "code",
   "execution_count": null,
   "metadata": {},
   "outputs": [],
   "source": [
    "# ---------\n",
    "# UKB Code to combine pheno/geno dataset with ASSAYnPCA\n",
    "# ---------\n",
    "\n",
    "fulldata <- read.csv(\"UPDATEDPhenoGenoALLCHROM.csv\")\n",
    "ASSAYnPCA <- read.csv(\"ASSAYnPCA.csv\")\n",
    "\n",
    "# Merging together\n",
    "ASSAYnPCA$ID <- ASSAYnPCA$eid\n",
    "\n",
    "fulldata <- merge(fulldata, ASSAYnPCA, by = \"ID\")\n",
    "\n",
    "\n",
    "# Renaming Assays and PCs\n",
    "colnames(fulldata)[colnames(fulldata) == \"p22000\"] <- \"Assay\"\n",
    "\n",
    "colnames(fulldata)[colnames(fulldata) == \"p22009_a1\"] <- \"PC1\"\n",
    "colnames(fulldata)[colnames(fulldata) == \"p22009_a2\"] <- \"PC2\"\n",
    "colnames(fulldata)[colnames(fulldata) == \"p22009_a3\"] <- \"PC3\"\n",
    "colnames(fulldata)[colnames(fulldata) == \"p22009_a4\"] <- \"PC4\"\n",
    "colnames(fulldata)[colnames(fulldata) == \"p22009_a5\"] <- \"PC5\"\n",
    "colnames(fulldata)[colnames(fulldata) == \"p22009_a6\"] <- \"PC6\"\n",
    "colnames(fulldata)[colnames(fulldata) == \"p22009_a7\"] <- \"PC7\"\n",
    "colnames(fulldata)[colnames(fulldata) == \"p22009_a8\"] <- \"PC8\"\n",
    "colnames(fulldata)[colnames(fulldata) == \"p22009_a9\"] <- \"PC9\"\n",
    "colnames(fulldata)[colnames(fulldata) == \"p22009_a10\"] <- \"PC10\"\n",
    "colnames(fulldata)[colnames(fulldata) == \"p22009_a11\"] <- \"PC11\"\n",
    "colnames(fulldata)[colnames(fulldata) == \"p22009_a12\"] <- \"PC12\"\n",
    "colnames(fulldata)[colnames(fulldata) == \"p22009_a13\"] <- \"PC13\"\n",
    "colnames(fulldata)[colnames(fulldata) == \"p22009_a14\"] <- \"PC14\"\n",
    "colnames(fulldata)[colnames(fulldata) == \"p22009_a15\"] <- \"PC15\"\n",
    "colnames(fulldata)[colnames(fulldata) == \"p22009_a16\"] <- \"PC16\"\n",
    "colnames(fulldata)[colnames(fulldata) == \"p22009_a17\"] <- \"PC17\"\n",
    "colnames(fulldata)[colnames(fulldata) == \"p22009_a18\"] <- \"PC18\"\n",
    "colnames(fulldata)[colnames(fulldata) == \"p22009_a19\"] <- \"PC19\"\n",
    "colnames(fulldata)[colnames(fulldata) == \"p22009_a20\"] <- \"PC20\"\n",
    "colnames(fulldata)[colnames(fulldata) == \"p22009_a21\"] <- \"PC21\"\n",
    "colnames(fulldata)[colnames(fulldata) == \"p22009_a22\"] <- \"PC22\"\n",
    "colnames(fulldata)[colnames(fulldata) == \"p22009_a23\"] <- \"PC23\"\n",
    "colnames(fulldata)[colnames(fulldata) == \"p22009_a24\"] <- \"PC24\"\n",
    "colnames(fulldata)[colnames(fulldata) == \"p22009_a25\"] <- \"PC25\"\n",
    "colnames(fulldata)[colnames(fulldata) == \"p22009_a26\"] <- \"PC26\"\n",
    "colnames(fulldata)[colnames(fulldata) == \"p22009_a27\"] <- \"PC27\"\n",
    "colnames(fulldata)[colnames(fulldata) == \"p22009_a28\"] <- \"PC28\"\n",
    "colnames(fulldata)[colnames(fulldata) == \"p22009_a29\"] <- \"PC29\"\n",
    "colnames(fulldata)[colnames(fulldata) == \"p22009_a30\"] <- \"PC30\"\n",
    "colnames(fulldata)[colnames(fulldata) == \"p22009_a31\"] <- \"PC31\"\n",
    "colnames(fulldata)[colnames(fulldata) == \"p22009_a32\"] <- \"PC32\"\n",
    "colnames(fulldata)[colnames(fulldata) == \"p22009_a33\"] <- \"PC33\"\n",
    "colnames(fulldata)[colnames(fulldata) == \"p22009_a34\"] <- \"PC34\"\n",
    "colnames(fulldata)[colnames(fulldata) == \"p22009_a35\"] <- \"PC35\"\n",
    "colnames(fulldata)[colnames(fulldata) == \"p22009_a36\"] <- \"PC36\"\n",
    "colnames(fulldata)[colnames(fulldata) == \"p22009_a37\"] <- \"PC37\"\n",
    "colnames(fulldata)[colnames(fulldata) == \"p22009_a38\"] <- \"PC38\"\n",
    "colnames(fulldata)[colnames(fulldata) == \"p22009_a39\"] <- \"PC39\"\n",
    "colnames(fulldata)[colnames(fulldata) == \"p22009_a40\"] <- \"PC40\"\n",
    "\n",
    "# CREATING assay indicator variable\n",
    "head(fulldata$Assay)\n",
    "as.factor(fulldata$Assay)\n",
    "\n",
    "# Creating assay indicator for Axiom and Batch - Cut off at first underscore\n",
    "fulldata$AssayType <- str_extract(fulldata$Assay, \"[^_]+\")\n",
    "\n",
    "head(fulldata$AssayType)\n",
    "as.factor(fulldata$AssayType)\n",
    "# Factors are Batch and UKBiLEVEAX\n",
    "\n",
    "write.csv(fulldata, \"UPDATEDPhenoGenoAssayPCA.csv\")\n"
   ]
  },
  {
   "cell_type": "code",
   "execution_count": null,
   "metadata": {},
   "outputs": [],
   "source": [
    "dx upload UPDATEDPhenoGenoAssayPCA.csv\n"
   ]
  }
 ],
 "metadata": {
  "kernelspec": {
   "display_name": "Python 3",
   "language": "python",
   "name": "python3"
  },
  "language_info": {
   "codemirror_mode": {
    "name": "ipython",
    "version": 3
   },
   "file_extension": ".py",
   "mimetype": "text/x-python",
   "name": "python",
   "nbconvert_exporter": "python",
   "pygments_lexer": "ipython3",
   "version": "3.8.5"
  }
 },
 "nbformat": 4,
 "nbformat_minor": 4
}
