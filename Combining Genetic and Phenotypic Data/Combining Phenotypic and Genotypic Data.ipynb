{
 "cells": [
  {
   "cell_type": "markdown",
   "metadata": {},
   "source": [
    "# Combining Phenotypic and Genotypic Data\n",
    "\n",
    "This code was run in the UK Biobank Research Analysis Platform to combine phenotypic and genotypic data. The results are only shown for chromosome 1 for simplicity."
   ]
  },
  {
   "cell_type": "code",
   "execution_count": null,
   "metadata": {},
   "outputs": [],
   "source": [
    "dx download Chrom1Vars.csv\n",
    "dx download FULLPHENODATA.csv\n"
   ]
  },
  {
   "cell_type": "code",
   "execution_count": null,
   "metadata": {},
   "outputs": [],
   "source": [
    "# To enable fast reading of large genomic datasets\n",
    "install.packages(\"data.table\")\n",
    "library(data.table)\n",
    "\n",
    "# To work with regular expressions\n",
    "install.packages('stringr')\n",
    "library(stringr)"
   ]
  },
  {
   "cell_type": "code",
   "execution_count": null,
   "metadata": {},
   "outputs": [],
   "source": [
    "# ----------------\n",
    "# UKB Processing Dataset and Creating Final Variables\n",
    "# ----------------\n",
    "\n",
    "phenodata <- read.csv(\"FULLPHENODATA.csv\")\n",
    "genodata <- fread(\"Chrom1Vars.csv\")\n",
    "\n",
    "\n",
    "# Transposing genodata\n",
    "genodatatranspose <- t(genodata)\n",
    "\n",
    "\n",
    "# Renaming first column to ID for consistency with phenodata\n",
    "colnames(genodatatranspose) <- c(\"ID\", \"1:47684677_\", \"1:49589847\", \"1:50559820_\", \"1:72751185\", \"1:75002193_\", \"1:78446761_\", \"1:96924097_\", \"1:110154688_\", \"1:177889480_\", \"1:201784287_\")\n",
    "\n",
    "# Comparing shape of IDs\n",
    "as.factor(phenodata$eid)\n",
    "\n",
    "# IF geno is eid_eid - NEED TO REMOVE SECOND PART\n",
    "install.packages('stringr')\n",
    "library(stringr)\n",
    "\n",
    "head(phenodata$ID)\n",
    "\n",
    "# ACTUAL code to remove second part for geno data\n",
    "genodatatranspose$EID <- str_extract(genodatatranspose$ID, \"[^_]+\")\n",
    "genodatatranspose$ID <- str_extract(genodatatranspose$ID, \"[^_]+\")\n",
    "# ALSO made an EID version so I can ensure these line up at the end - just to doubly confirm\n",
    "\n",
    "head(genodatatranspose$ID)\n",
    "# AH so need to remove the first row here...\n",
    "\n",
    "\n",
    "fulldata <- merge(phenodata, genodatatranspose, by = \"ID\", all = F)\n",
    "# How many IDs left over? Is geno data still interpretable with variants as add'l columns?\n",
    "\n",
    "dim(fulldata)\n",
    "dim(phenodata)\n",
    "dim(genodatatranspose)\n",
    "# First is 256,982 x 127\n",
    "# Second is 256,982 x 116\n",
    "# Third is 487,410 x 12\n",
    "\n",
    "\n",
    "# Save as csv\n",
    "write.csv(fulldata, \"UPDATEDPhenoGenoChrom1.csv\")"
   ]
  },
  {
   "cell_type": "code",
   "execution_count": null,
   "metadata": {},
   "outputs": [],
   "source": [
    "dx upload UPDATEDPhenoGenoChrom1.csv\n"
   ]
  }
 ],
 "metadata": {
  "kernelspec": {
   "display_name": "Python 3",
   "language": "python",
   "name": "python3"
  },
  "language_info": {
   "codemirror_mode": {
    "name": "ipython",
    "version": 3
   },
   "file_extension": ".py",
   "mimetype": "text/x-python",
   "name": "python",
   "nbconvert_exporter": "python",
   "pygments_lexer": "ipython3",
   "version": "3.8.5"
  }
 },
 "nbformat": 4,
 "nbformat_minor": 4
}
