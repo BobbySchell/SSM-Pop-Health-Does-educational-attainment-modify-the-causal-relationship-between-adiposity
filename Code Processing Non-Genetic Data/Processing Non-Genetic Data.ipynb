{
 "cells": [
  {
   "cell_type": "markdown",
   "metadata": {},
   "source": [
    "# Processing Non-Genetic Data\n",
    "\n",
    "This code was run in the UK Biobank Research Analysis Platform to process operation and diagnosis codes for UKB, create overarching CVD event and date variables, denote an individual’s status at endline (dead, CVD, or censored), and add covariates such as the location of the assessment center, date of assessment, smoking, and educational attainment. We also created BMI as the exposure variable, which was based on the first measured BMI, the time that also marked an individual’s start date of follow up. "
   ]
  },
  {
   "cell_type": "code",
   "execution_count": null,
   "metadata": {},
   "outputs": [],
   "source": [
    "dx download \"ALASTCOHORT.csv\"\n"
   ]
  },
  {
   "cell_type": "code",
   "execution_count": null,
   "metadata": {},
   "outputs": [],
   "source": [
    "# Installing relevant packages\n",
    "install.packages('stringr')\n",
    "library(stringr)\n",
    "\n",
    "install.packages(\"lubridate\")\n",
    "library(lubridate)"
   ]
  },
  {
   "cell_type": "code",
   "execution_count": null,
   "metadata": {},
   "outputs": [],
   "source": [
    "UKBDF <- read.csv(\"ALASTCOHORT.csv\")\n",
    "colnames(UKBDF)\n",
    "ncol(UKBDF)"
   ]
  },
  {
   "cell_type": "code",
   "execution_count": null,
   "metadata": {},
   "outputs": [],
   "source": [
    "# First subsetting to only surgeries to keep relevant ones and dates\n",
    "UKBDFOPS <- UKBDF[ , c(2, 101:225)]\n"
   ]
  },
  {
   "cell_type": "code",
   "execution_count": null,
   "metadata": {},
   "outputs": [],
   "source": [
    "# Using p41272 - Operative procedures with OPCS4 Codes to restrict to relevant surgeries\n",
    "UKBDFOPS$RELEVANTOP <- grepl('K40|K41|K42|K43|K44|K45|K46', UKBDFOPS$p41272)\n",
    "# Creates T/F variable for whether operation contained is in our criteria\n"
   ]
  },
  {
   "cell_type": "code",
   "execution_count": null,
   "metadata": {},
   "outputs": [],
   "source": [
    "# Only extract string BEFORE operation - subsequent operations aren't relevant (first diagnosis/surgery)\n",
    "UKBDFOPS$p41272 <- sub(\"K40.*\", \"\", UKBDFOPS$p41272)\n",
    "UKBDFOPS$p41272 <- sub(\"K41.*\", \"\", UKBDFOPS$p41272)\n",
    "UKBDFOPS$p41272 <- sub(\"K42.*\", \"\", UKBDFOPS$p41272)\n",
    "UKBDFOPS$p41272 <- sub(\"K43.*\", \"\", UKBDFOPS$p41272)\n",
    "UKBDFOPS$p41272 <- sub(\"K44.*\", \"\", UKBDFOPS$p41272)\n",
    "UKBDFOPS$p41272 <- sub(\"K45.*\", \"\", UKBDFOPS$p41272)\n",
    "UKBDFOPS$p41272 <- sub(\"K46.*\", \"\", UKBDFOPS$p41272)\n"
   ]
  },
  {
   "cell_type": "code",
   "execution_count": null,
   "metadata": {},
   "outputs": [],
   "source": [
    "# ONLY record as non-missing if individual has record of correct operation\n",
    "UKBDFOPS$V3 <- ifelse(is.na(UKBDFOPS$RELEVANTOP) == FALSE, str_count(UKBDFOPS$p41272, ','), NA)\n",
    "# This code works for selecting array because FIRST array is actually a0 NOT a1\n"
   ]
  },
  {
   "cell_type": "code",
   "execution_count": null,
   "metadata": {},
   "outputs": [],
   "source": [
    "# Using number of commas found BEFORE operation to choose array\n",
    "UKBDFOPS$V4 <- paste(\"p41282_a\", UKBDFOPS$V3, sep = \"\")\n"
   ]
  },
  {
   "cell_type": "code",
   "execution_count": null,
   "metadata": {},
   "outputs": [],
   "source": [
    "# Choosing column based on V4\n",
    "UKBDFOPS$MATCH <- match(UKBDFOPS$V4, names(UKBDFOPS))\n"
   ]
  },
  {
   "cell_type": "code",
   "execution_count": null,
   "metadata": {},
   "outputs": [],
   "source": [
    "# Only keeping where not missing\n",
    "UKBDFOPS <- subset(UKBDFOPS, RELEVANTOP == TRUE)\n"
   ]
  },
  {
   "cell_type": "code",
   "execution_count": null,
   "metadata": {},
   "outputs": [],
   "source": [
    "# Large for loop\n",
    "OPDATE <- matrix(NA, nrow = nrow(UKBDFOPS), ncol = 1)\n",
    "# Using this to create a variable that tracks the date of relevant operations\n",
    "\n",
    "# Create as separate data frame and then join back after creating OPDATE var\n",
    "for(i in 1:nrow(UKBDFOPS)){\n",
    "  OPDATE[i, ] <- UKBDFOPS[i, UKBDFOPS$MATCH[i]]\n",
    "  \n",
    "}\n",
    "\n",
    "UKBDFOPS$OperationDate <- OPDATE"
   ]
  },
  {
   "cell_type": "code",
   "execution_count": null,
   "metadata": {},
   "outputs": [],
   "source": [
    "# Creating region variables\n",
    "UKBDFMerge$REGION <- ifelse(UKBDFMerge$p54_i0 == \"Cardiff\" | UKBDFMerge$p54_i0 == \"Swansea\" | UKBDFMerge$p54_i0 == \"Wrexham\", \"Wales\",\n",
    "                            ifelse(UKBDFMerge$p54_i0 == \"Edinburgh\" | UKBDFMerge$p54_i0 == \"Glasgow\", \"Scotland\", \"England\"))\n",
    "\n",
    "summary(as.factor(UKBDFMerge$REGION))\n",
    "\n"
   ]
  },
  {
   "cell_type": "code",
   "execution_count": null,
   "metadata": {},
   "outputs": [],
   "source": [
    "# ADDING EID BACK IN AND SEE HOW THIS WORKS WITH EVERYTHING....\n",
    "varnames <- c(\"eid\",\"REGION\",\"p22001\", \"p31\", \"p191\", \"p21022\", \"p52\", \"p34\", \"p738_i0\", \"p738_i1\", \"p738_i2\", \"p738_i3\",\n",
    "              \"p6138_i0\", \"p6138_i1\", \"p6138_i2\", \"p6138_i3\", \"p20160_i0\", \"p20160_i1\", \"p20160_i2\",\n",
    "              \"p20160_i3\", \"p20116_i0\", \"p20116_i1\", \"p20116_i2\", \"p20116_i3\", \"p3894_i0\", \"p3894_i1\",\n",
    "              \"p3894_i2\", \"p3894_i3\", \"p3627_i0\", \"p3627_i1\", \"p3627_i2\", \"p3627_i3\", \"p4056_i0\", \"p4056_i1\",\n",
    "              \"p4056_i2\", \"p4056_i3\", \"p21001_i0\", \"p21001_i1\", \"p21001_i2\", \"p21001_i3\",\n",
    "              \"p23104_i0\",\"p23104_i1\", \"p23104_i2\", \"p23104_i3\", \"p48_i0\", \"p48_i1\", \"p48_i2\", \"p48_i3\",\n",
    "              \"p49_i0\", \"p49_i1\", \"p49_i2\", \"p49_i3\", \"p40000_i0\", \"p40000_i1\", \"p40007_i0\", \"p40007_i1\",\n",
    "              \"p40001_i0\", \"p40001_i1\", \"p42000\", \"p42006\", \"p131296\", \"p131297\", \"p131298\", \"p131299\",\n",
    "              \"p131300\", \"p131301\", \"p131302\", \"p131303\", \"p131304\", \"p131305\", \"p131306\", \"p131307\",\n",
    "              \"p131342\", \"p131343\", \"p131354\", \"p131355\", \"p131360\", \"p131361\", \"p131362\", \"p131363\",\n",
    "              \"p131364\", \"p131365\", \"p131366\", \"p131367\", \"p131368\", \"p131369\", \"p131378\", \"p131379\",\n",
    "              \"p53_i0\", \"p53_i1\", \"p53_i2\", \"p53_i3\", \"p21003_i0\", \"p21003_i1\", \"p21003_i2\", \"p21003_i3\",\"p9999990\",\"p999999\")\n",
    "\n",
    "\n",
    "\n",
    "# Getting ordered alpha numerically\n",
    "# Remove p to sort numerically then add back in\n",
    "varnames <- gsub(\"p\", \"\", varnames)\n",
    "varnames <- varnames[order(as.numeric(varnames))]\n",
    "varnames <- paste(\"p\", varnames, sep = \"\")"
   ]
  },
  {
   "cell_type": "code",
   "execution_count": null,
   "metadata": {},
   "outputs": [],
   "source": [
    "# Remove extraneous region variabless\n",
    "UKBDFNoEID <- UKBDFMerge[ , -c(2, 97:225)]\n"
   ]
  },
  {
   "cell_type": "code",
   "execution_count": null,
   "metadata": {},
   "outputs": [],
   "source": [
    "# Renaming the last two\n",
    "colnames(UKBDFNoEID)[97] <- \"p999999\" #OperationDate\n",
    "colnames(UKBDFNoEID)[98] <- \"p9999990\" # REGION\n",
    "\n",
    "# Renaming EID AS WELL\n",
    "colnames(UKBDFNoEID)[1] <- \"p9999999999\" # EID\n"
   ]
  },
  {
   "cell_type": "code",
   "execution_count": null,
   "metadata": {},
   "outputs": [],
   "source": [
    "# First remove p\n",
    "colnames(UKBDFNoEID) <- gsub(\"p\", \"\", colnames(UKBDFNoEID))\n",
    "\n",
    "# Now order numerically\n",
    "UKBDFNoEID <- UKBDFNoEID[ , order(as.numeric(colnames(UKBDFNoEID)))]\n",
    "\n",
    "# Adding p back in\n",
    "colnames(UKBDFNoEID) <- paste(\"p\", colnames(UKBDFNoEID), sep = \"\")\n",
    "\n",
    "# Renaming fields to be interpretable - after organizing numerically\n",
    "colnames(UKBDFNoEID) <- c(\"Biological Sex\", \"Year of Birth\", \"Month of Birth\", \"Date Lost to Follow Up\",\n",
    "                          \"Age at Recruitment\", \"Genetic Sex\", \"Date of MI\", \"Date of Stroke\", \"Date of I20\",\n",
    "                          \"Source of I20\", \"Date of I21\", \"Source of I21\", \"Date of I22\", \"Source of I22\", \"Date of I23\", \"Source of I23\",\n",
    "                          \"Date of I24\", \"Source of I24\", \"Date of I25\", \"Source of I25\", \"Date of I44\", \"Source of I44\",\n",
    "                          \"Date of I50\", \"Source of I50\", \"Date of I60\", \"Source of I60\", \"Date of I61\", \"Source of I61\",\n",
    "                          \"Date of I62\", \"Source of I62\", \"Date of I63\", \"Source of I63\", \"Date of I64\", \"Source of I64\",\n",
    "                          \"Date of I69\", \"Source of I69\", \"OperationDate\", \"REGION\", \"ID\", \"HH Income Inst 0\", \"HH Income Inst 1\", \"HH Income Inst 2\", \"HH Income Inst 3\",\n",
    "                          \"EA Inst 0\", \"EA Inst 1\", \"EA Inst 2\", \"EA Inst 3\", \"EverSmoke Inst 0\", \"EverSmoke Inst 1\", \"EverSmoke Inst 2\",\n",
    "                          \"EverSmoke Inst 3\", \"SmokStat Inst 0\", \"SmokStat Inst 1\", \"SmokStat Inst 2\", \"SmokStat Inst 3\", \"Age Heart Attack Inst 0\",\n",
    "                          \"Age Heart Attack Inst 1\", \"Age Heart Attack Inst 2\", \"Age Heart Attack Inst 3\", \"Age Angina Inst 0\", \"Age Angina Inst 1\",\n",
    "                          \"Age Angina Inst 2\", \"Age Angina Inst 3\", \"Age Stroke Inst 0\", \"Age Stroke Inst 1\", \"Age Stroke Inst 2\", \"Age Stroke Inst 3\",\n",
    "                          \"Measured BMI Inst 0\", \"Measured BMI Inst 1\", \"Measured BMI Inst 2\", \"Measured BMI Inst 3\", \"Imped BMI Inst 0\", \"Imped BMI Inst 1\",\n",
    "                          \"Imped BMI Inst 2\", \"Imped BMI Inst 3\", \"WC Inst 0\", \"WC Inst 1\", \"WC Inst 2\", \"WC Inst 3\", \"HC Inst 0\", \"HC Inst 1\", \"HC Inst 2\", \"HC Inst 3\",\n",
    "                          \"Date of Death Inst 0\", \"Date of Death Inst 1\", \"Age at Death Inst 0\", \"Age at Death Inst 1\", \"Primary Cause of Death Inst 0\", \"Primary Cause of Death Inst 1\",\n",
    "                          \"Date Attending Assess Center Inst 0\", \"Date Attending Assess Center Inst 1\", \"Date Attending Assess Center Inst 2\", \"Date Attending Assess Center Inst 3\",\n",
    "                          \"Age Attending Assess Center Inst 0\", \"Age Attending Assess Center Inst 1\", \"Age Attending Assess Center Inst 2\", \"Age Attending Assess Center Inst 3\")\n",
    "\n"
   ]
  },
  {
   "cell_type": "code",
   "execution_count": null,
   "metadata": {},
   "outputs": [],
   "source": [
    "\n",
    "# Making date of birth variable\n",
    "# ONLY take last two variables of Year\n",
    "UKBDFNoEID$Year <- sprintf('%02d', UKBDFNoEID$`Year of Birth` %% 100)\n",
    "UKBDFNoEID$Month <- match(UKBDFNoEID$`Month of Birth`, month.name)\n",
    "\n",
    "# Convert into DOB - arbitrarily chose first of the month\n",
    "UKBDFNoEID$DOB <- as.Date(paste(UKBDFNoEID$`Year of Birth`, UKBDFNoEID$Month, 01, sep = \"-\"))\n",
    "\n",
    "\n",
    "\n",
    "UKBDFNoEID$DOB"
   ]
  },
  {
   "cell_type": "code",
   "execution_count": null,
   "metadata": {},
   "outputs": [],
   "source": [
    "# NOW processing ICD-10 codes (derived from hospital, death, self-report, etc.)\n",
    "# CVD Variables here include:\n",
    "# 7, 8, 9, 11, 13, 15, 17, 19, 21, 23, 25, 27, 29, 31, 33, 35, 37, 106, 105, 104\n",
    "UKBDFNoEID$CVDDate <- apply(UKBDFNoEID[ , c(7, 8, 9, 11, 13, 15, 17, 19, 21, 23, 25, 27, 29, 31, 33, 35, 37, 106, 105, 104)], 1, FUN = min, na.rm = TRUE)\n",
    "# Excluded my 3 user created ones for now... Not much info and simpler...\n",
    "# 47,238 PREVALENT CVD\n",
    "# 229,003 CONTROLS\n",
    "colnames(UKBDFNoEID)\n",
    "ncol(UKBDFNoEID)\n",
    "\n",
    "# Create Status variable denoting whether someone did or did not have a CVD event\n",
    "UKBDFNoEID$Status <- ifelse(is.na(UKBDFNoEID$CVDDate) == FALSE, 1, 0)\n",
    "\n",
    "summary(as.factor(UKBDFNoEID$Status))\n"
   ]
  },
  {
   "cell_type": "code",
   "execution_count": null,
   "metadata": {},
   "outputs": [],
   "source": [
    "\n",
    "# Make sure these dates attending assessment center are coded as dates\n",
    "UKBDFNoEID$`Date Attending Assess Center Inst 0` <- as.Date(UKBDFNoEID$`Date Attending Assess Center Inst 0`)\n",
    "UKBDFNoEID$`Date Attending Assess Center Inst 1` <- as.Date(UKBDFNoEID$`Date Attending Assess Center Inst 1`)\n",
    "UKBDFNoEID$`Date Attending Assess Center Inst 2` <- as.Date(UKBDFNoEID$`Date Attending Assess Center Inst 2`)\n",
    "UKBDFNoEID$`Date Attending Assess Center Inst 3` <- as.Date(UKBDFNoEID$`Date Attending Assess Center Inst 3`)\n",
    "\n",
    "# First record of measured BMI comes from first appearance at assessment center\n",
    "UKBDFNoEID$BMIDate <- apply(UKBDFNoEID[ , c(90:93)], 1, FUN = min, na.rm = TRUE)\n",
    "\n",
    "# Converting to BMI date\n",
    "UKBDFNoEID$BMIDate <- as.Date(UKBDFNoEID$BMIDate)\n",
    "summary(UKBDFNoEID$BMIDate)\n",
    "\n",
    "# Time at risk starts after BMI is measured for the first time\n",
    "UKBDFNoEID$Time <- UKBDFNoEID$CVDDate - UKBDFNoEID$BMIDate\n",
    "\n",
    "\n",
    "# Drop people with NO BMIDate (No BMI to measure...)\n",
    "UKBDFNoEID <- subset(UKBDFNoEID, is.na(BMIDate) == FALSE)\n",
    "\n",
    "nrow(UKBDFNoEID)\n",
    "# No one is missing BMI measurement!!!\n",
    "\n",
    "\n",
    "# Create time to event variable\n",
    "UKBDFNoEID$Time <- UKBDFNoEID$CVDDate - UKBDFNoEID$BMIDate\n",
    "\n",
    "\n",
    "# Creating Age at Baseline (first measured BMI/WHRadjBMI)\n",
    "UKBDFNoEID$AgeBaseline <- UKBDFNoEID$BMIDate - UKBDFNoEID$DOB\n",
    "\n",
    "# Convert this from days to years\n",
    "UKBDFNoEID$AgeBaseline <- UKBDFNoEID$AgeBaseline/365.24\n",
    "\n",
    "\n",
    "summary(as.numeric(UKBDFNoEID$AgeBaseline))\n",
    "\n",
    "\n",
    "# Keep if time is positive OR MISSING CVDDate (these would be control folks so far)\n",
    "UKBDFNoEID <- subset(UKBDFNoEID, Time > 0 | is.na(CVDDate) == TRUE)\n",
    "\n",
    "\n",
    "nrow(UKBDFNoEID)\n",
    "# 256,982 individuals now\n",
    "# So 19,259 inds excluded due to prevalent CVD\n",
    "\n",
    "summary(as.factor(UKBDFNoEID$Status))\n",
    "# Suggests INCIDENT CVD is STILL 27,979\n",
    "# Controls of 229,003\n",
    "\n",
    "\n",
    "# Choosing actual BMI measurement based on date attended assessment center\n",
    "UKBDFNoEID$FirstBMI <- ifelse(UKBDFNoEID$BMIDate == UKBDFNoEID$`Date Attending Assess Center Inst 0`, UKBDFNoEID$`Measured BMI Inst 0`,\n",
    "                              ifelse(UKBDFNoEID$BMIDate == UKBDFNoEID$`Date Attending Assess Center Inst 1`, UKBDFNoEID$`Measured BMI Inst 1`,\n",
    "                                     ifelse(UKBDFNoEID$BMIDate == UKBDFNoEID$`Date Attending Assess Center Inst 2`, UKBDFNoEID$`Measured BMI Inst 2`, UKBDFNoEID$`Measured BMI Inst 3`)))\n",
    "# TURNED THIS INTO AN IF ELSE STATEMENT IN NOTEBOOK"
   ]
  },
  {
   "cell_type": "code",
   "execution_count": null,
   "metadata": {},
   "outputs": [],
   "source": [
    "\n",
    "# --------\n",
    "# MAKING Death Variable with Timing\n",
    "# MAKING lost to follow up variable (only a few...) - only around 1300 in UKB\n",
    "# IF NEITHER DEATH NOR CVD, THEN CENSORED at 2022 OR AT LOSS TO FOLLOW UP\n",
    "# --------\n",
    "\n",
    "UKBDFNoEID$`Date of Death Inst 0` <- as.Date(UKBDFNoEID$`Date of Death Inst 0`)\n",
    "UKBDFNoEID$`Date of Death Inst 1` <- as.Date(UKBDFNoEID$`Date of Death Inst 1`)\n",
    "\n",
    "# Assuming CENSORED at 1/1/22.. Not quite right - will vary by locale apparently\n",
    "UKBDFNoEID$CensorDate <- as.Date(\"2020-01-01\")\n",
    "\n",
    "# Finishing Time Variable based on WHEN things happened\n",
    "# IF not dead, CVD, or CENSORED (ignore) then time out is 2022\n",
    "# Differential follow up was added later\n",
    "# o.w. time is CVD -> Dead -> Censored\n",
    "UKBDFNoEID$Time <- ifelse(is.na(UKBDFNoEID$CVDDate) == FALSE, UKBDFNoEID$Time, \n",
    "                          ifelse(is.na(UKBDFNoEID$`Date of Death Inst 0`) == FALSE, UKBDFNoEID$`Date of Death Inst 0` - UKBDFNoEID$BMIDate, \n",
    "                                 ifelse(is.na(UKBDFNoEID$`Date of Death Inst 1`) == FALSE, UKBDFNoEID$`Date of Death Inst 1` - UKBDFNoEID$BMIDate, \n",
    "                                        UKBDFNoEID$CensorDate - UKBDFNoEID$BMIDate)))\n",
    "\n",
    "\n",
    "# Update Status Variable accordingly\n",
    "UKBDFNoEID$Status <- ifelse(is.na(UKBDFNoEID$CVDDate) == FALSE, UKBDFNoEID$Status, \n",
    "                            ifelse(is.na(UKBDFNoEID$`Date of Death Inst 0`) == FALSE | is.na(UKBDFNoEID$`Date of Death Inst 1`) == FALSE, 2, 0))\n",
    "\n",
    "summary(as.factor(UKBDFNoEID$Status))\n",
    "# 217,836 inds censored\n",
    "# 27,979 CVD\n",
    "# 11,167 Dead\n",
    "\n",
    "# -------\n",
    "# Format EVER SMOKED correctly\n",
    "# -------\n",
    "\n",
    "UKBDFNoEID$`EverSmoke Inst 0` == UKBDFNoEID$`EverSmoke Inst 1`\n",
    "UKBDFNoEID$`EverSmoke Inst 1` == UKBDFNoEID$`EverSmoke Inst 2`\n",
    "UKBDFNoEID$`EverSmoke Inst 2` == UKBDFNoEID$`EverSmoke Inst 3`\n",
    "\n",
    "\n",
    "# Getting Relevant EA - not missing and equivalent ACROSS WAVES\n",
    "UKBDFNoEID$EverSmoke <- ifelse(is.na(UKBDFNoEID$`EverSmoke Inst 0`) == FALSE, UKBDFNoEID$`EverSmoke Inst 0`,\n",
    "                               ifelse(is.na(UKBDFNoEID$`EverSmoke Inst 1`) == FALSE, UKBDFNoEID$`EverSmoke Inst 1`,\n",
    "                                      ifelse(is.na(UKBDFNoEID$`EverSmoke Inst 2`) == FALSE, UKBDFNoEID$`EverSmoke Inst 2`,\n",
    "                                             ifelse(is.na(UKBDFNoEID$`EverSmoke Inst 3`) == FALSE, UKBDFNoEID$`EverSmoke Inst 3`, NA))))\n",
    "\n",
    "\n",
    "\n",
    "\n",
    "# --------\n",
    "# Get Educational Attainment right\n",
    "# --------\n",
    "\n",
    "# Getting Relevant EA - not missing and equivalent ACROSS WAVES\n",
    "UKBDFNoEID$EA <- ifelse(is.na(UKBDFNoEID$`EA Inst 0`) == FALSE, UKBDFNoEID$`EA Inst 0`,\n",
    "                        ifelse(is.na(UKBDFNoEID$`EA Inst 1`) == FALSE, UKBDFNoEID$`EA Inst 1`,\n",
    "                               ifelse(is.na(UKBDFNoEID$`EA Inst 2`) == FALSE, UKBDFNoEID$`EA Inst 2`,\n",
    "                                      ifelse(is.na(UKBDFNoEID$`EA Inst 3`) == FALSE, UKBDFNoEID$`EA Inst 3`, NA))))\n",
    "\n",
    "\n",
    "UKBDFLowSES <- UKBDFNoEID[grep(\"None of the above\", UKBDFNoEID$EA), ]\n",
    "UKBDFHighSES <- UKBDFNoEID[-grep(\"None of the above\", UKBDFNoEID$EA), ]\n",
    "\n",
    "\n",
    "# -------\n",
    "# Getting cases and controls count OVERALL then by HIGHER VS LOWER EA\n",
    "# -------\n",
    "\n",
    "summary(as.factor(UKBDFNoEID$Status))\n",
    "# 217,836 censored, 27,979 CVD, 11,167 dead\n",
    "http://localhost:8888/notebooks/Processing%20Non-Genetic%20Data.ipynb#\n",
    "\n",
    "summary(as.factor(UKBDFLowSES$Status))\n",
    "# 29,215 censored, 6,749 CVD, 2,703 dead\n",
    "\n",
    "summary(as.factor(UKBDFHighSES$Status))\n",
    "# 188,621 censored, 21,230 CVD, 8,464 dead\n",
    "\n",
    "# Write these into CSVs\n",
    "write.csv(UKBDFNoEID, \"FULLCSV.csv\")\n",
    "write.csv(UKBDFLowSES, \"LOWSESCSV.csv\")\n",
    "write.csv(UKBDFHighSES, \"HIGHSESCSV.csv\")"
   ]
  },
  {
   "cell_type": "code",
   "execution_count": null,
   "metadata": {},
   "outputs": [],
   "source": [
    "dx upload FULLCSV.csv\n",
    "dx upload HIGHSESCSV.csv\n",
    "dx upload LOWSESCSV.csv"
   ]
  }
 ],
 "metadata": {
  "kernelspec": {
   "display_name": "Python 3",
   "language": "python",
   "name": "python3"
  },
  "language_info": {
   "codemirror_mode": {
    "name": "ipython",
    "version": 3
   },
   "file_extension": ".py",
   "mimetype": "text/x-python",
   "name": "python",
   "nbconvert_exporter": "python",
   "pygments_lexer": "ipython3",
   "version": "3.8.5"
  }
 },
 "nbformat": 4,
 "nbformat_minor": 4
}
